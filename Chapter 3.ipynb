{
 "cells": [
  {
   "cell_type": "markdown",
   "id": "bbfea5a1-0108-4c28-b692-8e310e22adb0",
   "metadata": {},
   "source": [
    "# Chapter 3\n",
    "## Classification"
   ]
  },
  {
   "cell_type": "code",
   "execution_count": 1,
   "id": "a3157baf-a3c5-4340-b684-e837c6ebd6c1",
   "metadata": {},
   "outputs": [],
   "source": [
    "from sklearn.datasets import fetch_openml"
   ]
  },
  {
   "cell_type": "code",
   "execution_count": 2,
   "id": "de97027b-b1fe-4962-b19d-26e37ed1e40e",
   "metadata": {},
   "outputs": [],
   "source": [
    "mnist = fetch_openml('mnist_784', as_frame = False)"
   ]
  },
  {
   "cell_type": "code",
   "execution_count": 3,
   "id": "8a7e21f5-276d-4ede-8d60-8ac60660aad7",
   "metadata": {},
   "outputs": [],
   "source": [
    "X, y = mnist.data, mnist.target"
   ]
  },
  {
   "cell_type": "code",
   "execution_count": 4,
   "id": "5deb3596-632c-4a8e-8aca-1c53ab1bce6a",
   "metadata": {},
   "outputs": [
    {
     "data": {
      "text/plain": [
       "array([[0., 0., 0., ..., 0., 0., 0.],\n",
       "       [0., 0., 0., ..., 0., 0., 0.],\n",
       "       [0., 0., 0., ..., 0., 0., 0.],\n",
       "       ...,\n",
       "       [0., 0., 0., ..., 0., 0., 0.],\n",
       "       [0., 0., 0., ..., 0., 0., 0.],\n",
       "       [0., 0., 0., ..., 0., 0., 0.]])"
      ]
     },
     "execution_count": 4,
     "metadata": {},
     "output_type": "execute_result"
    }
   ],
   "source": [
    "X"
   ]
  },
  {
   "cell_type": "code",
   "execution_count": 5,
   "id": "8b218550-04ae-4ae5-9d9f-6c594534f9dd",
   "metadata": {},
   "outputs": [
    {
     "data": {
      "text/plain": [
       "(70000, 784)"
      ]
     },
     "execution_count": 5,
     "metadata": {},
     "output_type": "execute_result"
    }
   ],
   "source": [
    "X.shape"
   ]
  },
  {
   "cell_type": "code",
   "execution_count": 6,
   "id": "6ccd4698-897a-468a-832d-0bb144ea36e9",
   "metadata": {},
   "outputs": [
    {
     "data": {
      "text/plain": [
       "array(['5', '0', '4', ..., '4', '5', '6'], dtype=object)"
      ]
     },
     "execution_count": 6,
     "metadata": {},
     "output_type": "execute_result"
    }
   ],
   "source": [
    "y"
   ]
  },
  {
   "cell_type": "code",
   "execution_count": 7,
   "id": "ec1c90df-78bd-43c4-b596-24c1c7891fd5",
   "metadata": {},
   "outputs": [
    {
     "data": {
      "text/plain": [
       "(70000,)"
      ]
     },
     "execution_count": 7,
     "metadata": {},
     "output_type": "execute_result"
    }
   ],
   "source": [
    "y.shape"
   ]
  },
  {
   "cell_type": "code",
   "execution_count": 8,
   "id": "caea7b5e-ec54-4737-844f-66f4c0c797b4",
   "metadata": {},
   "outputs": [],
   "source": [
    "import matplotlib.pyplot as plt"
   ]
  },
  {
   "cell_type": "code",
   "execution_count": 9,
   "id": "12679f64-9cf9-4385-a839-fdadfe7a8047",
   "metadata": {},
   "outputs": [],
   "source": [
    "def plot_digit(image_data):\n",
    "    image = image_data.reshape(28,28)\n",
    "    plt.imshow(image, cmap=\"binary\")\n",
    "    plt.axis(\"off\")"
   ]
  },
  {
   "cell_type": "code",
   "execution_count": 10,
   "id": "23ab3f20-3be0-45a2-94f6-7be782f630d5",
   "metadata": {},
   "outputs": [
    {
     "data": {
      "image/png": "[encoded data removed]",
      "text/plain": [
       "<Figure size 640x480 with 1 Axes>"
      ]
     },
     "metadata": {},
     "output_type": "display_data"
    }
   ],
   "source": [
    "some_digit = X[0]\n",
    "plot_digit(some_digit)\n",
    "plt.show()"
   ]
  },
  {
   "cell_type": "code",
   "execution_count": 11,
   "id": "a20d2e88-a9d1-48c0-b248-cd01589c3224",
   "metadata": {},
   "outputs": [
    {
     "data": {
      "text/plain": [
       "'5'"
      ]
     },
     "execution_count": 11,
     "metadata": {},
     "output_type": "execute_result"
    }
   ],
   "source": [
    "y[0]"
   ]
  },
  {
   "cell_type": "code",
   "execution_count": 12,
   "id": "8c54a7e8-d6a9-4be0-9233-b59d19e52145",
   "metadata": {},
   "outputs": [],
   "source": [
    "X_train, X_test, y_train, y_test = X[:60000], X[60000:], y[:60000], y[60000:]"
   ]
  },
  {
   "cell_type": "markdown",
   "id": "7d2b0ca5-0017-4a58-b7f7-df6ba72fa389",
   "metadata": {},
   "source": [
    "### A Binary Classifier\n",
    "\n",
    "For simplicity let's just see if a given digit is 5 or not. This \"5-detector\" will be an example of a binary classifier."
   ]
  },
  {
   "cell_type": "code",
   "execution_count": 15,
   "id": "4f95ad56-e831-4655-95a5-b1d8362d7f92",
   "metadata": {},
   "outputs": [],
   "source": [
    "#create target vectors.\n",
    "\n",
    "y_train_5 = (y_train == '5') #True for all 5(s), else, false.\n",
    "y_test_5 = (y_test == '5')"
   ]
  },
  {
   "cell_type": "code",
   "execution_count": 16,
   "id": "0808de45-6073-4eb4-8007-db9b03bc8ec7",
   "metadata": {},
   "outputs": [],
   "source": [
    "from sklearn.linear_model import SGDClassifier"
   ]
  },
  {
   "cell_type": "code",
   "execution_count": 17,
   "id": "1a484d81-437e-4cb0-8302-341af4bcdc1b",
   "metadata": {},
   "outputs": [
    {
     "data": {
      "text/plain": [
       "SGDClassifier(random_state=42)"
      ]
     },
     "execution_count": 17,
     "metadata": {},
     "output_type": "execute_result"
    }
   ],
   "source": [
    "sgd_clf = SGDClassifier(random_state = 42)\n",
    "sgd_clf.fit(X_train, y_train_5)"
   ]
  },
  {
   "cell_type": "code",
   "execution_count": 18,
   "id": "0d2a1d53-a793-4070-a1d7-250d2ae2cd7f",
   "metadata": {},
   "outputs": [
    {
     "data": {
      "text/plain": [
       "array([ True])"
      ]
     },
     "execution_count": 18,
     "metadata": {},
     "output_type": "execute_result"
    }
   ],
   "source": [
    "sgd_clf.predict([some_digit])"
   ]
  },
  {
   "cell_type": "markdown",
   "id": "9c949fa3-fd3b-4e4b-8d43-3c7b287e161c",
   "metadata": {},
   "source": [
    "### Performance Measures"
   ]
  },
  {
   "cell_type": "code",
   "execution_count": 20,
   "id": "aad2bdff-65a4-494a-a4a5-8dc4a0be63cc",
   "metadata": {},
   "outputs": [],
   "source": [
    "from sklearn.model_selection import cross_val_score"
   ]
  },
  {
   "cell_type": "code",
   "execution_count": 21,
   "id": "4383cd74-5470-4330-9623-346e562a102f",
   "metadata": {},
   "outputs": [
    {
     "data": {
      "text/plain": [
       "array([0.95035, 0.96035, 0.9604 ])"
      ]
     },
     "execution_count": 21,
     "metadata": {},
     "output_type": "execute_result"
    }
   ],
   "source": [
    "cross_val_score(sgd_clf, X_train, y_train_5, cv=3, scoring=\"accuracy\")"
   ]
  },
  {
   "cell_type": "markdown",
   "id": "bf350cd3-4ed2-4a88-ae39-d21523811ff2",
   "metadata": {},
   "source": [
    "Looks good, right? But here's a twist, there are only about 10% 5s in the whole data set, so even if you guess all images are not a 5, you'll still be about 90% correct.\n",
    "\n",
    "To check this let's use the dummy classifier that classifies all images to the most frequent class only, in this case, non-5."
   ]
  },
  {
   "cell_type": "code",
   "execution_count": 23,
   "id": "0cb162c6-4b44-42df-bf98-38fedc761072",
   "metadata": {},
   "outputs": [],
   "source": [
    "from sklearn.dummy import DummyClassifier"
   ]
  },
  {
   "cell_type": "code",
   "execution_count": 24,
   "id": "1997b8b9-2da4-4114-b1ba-fc819fe91577",
   "metadata": {},
   "outputs": [
    {
     "name": "stdout",
     "output_type": "stream",
     "text": [
      "False\n"
     ]
    }
   ],
   "source": [
    "dummy_clf = DummyClassifier()\n",
    "dummy_clf.fit(X_train, y_train_5)\n",
    "print(any(dummy_clf.predict(X_train)))"
   ]
  },
  {
   "cell_type": "code",
   "execution_count": 25,
   "id": "ef32d16a-0c6d-4997-8758-d326e98f3c8c",
   "metadata": {},
   "outputs": [
    {
     "data": {
      "text/plain": [
       "array([0.90965, 0.90965, 0.90965])"
      ]
     },
     "execution_count": 25,
     "metadata": {},
     "output_type": "execute_result"
    }
   ],
   "source": [
    "cross_val_score(dummy_clf, X_train, y_train_5, cv=3, scoring=\"accuracy\")"
   ]
  },
  {
   "cell_type": "markdown",
   "id": "26938f85-6801-47e5-b00f-23605b5f9cc3",
   "metadata": {},
   "source": [
    "See? 90%\n",
    "\n",
    "This is why accuracy is not a preferred measure for classifiers, especially with skewed datasets like this where some classes are much more frequent."
   ]
  },
  {
   "cell_type": "code",
   "execution_count": 47,
   "id": "03b9a8eb-4716-4e5b-b56d-6347515b8353",
   "metadata": {},
   "outputs": [],
   "source": [
    "#Cross validation, with a little more control.\n",
    "\n",
    "from sklearn.model_selection import StratifiedKFold\n",
    "from sklearn.base import clone"
   ]
  },
  {
   "cell_type": "code",
   "execution_count": 49,
   "id": "576080df-2925-4479-8e64-b95054d966f3",
   "metadata": {},
   "outputs": [],
   "source": [
    "skfolds = StratifiedKFold(n_splits = 3) #Add shuffle = True if the dataset is not shuffled"
   ]
  },
  {
   "cell_type": "code",
   "execution_count": 57,
   "id": "96967622-8bff-4191-97cf-4ae3f79f6fb7",
   "metadata": {},
   "outputs": [
    {
     "name": "stdout",
     "output_type": "stream",
     "text": [
      "0.95035\n",
      "0.96035\n",
      "0.9604\n"
     ]
    }
   ],
   "source": [
    "for train_index, test_index in skfolds.split(X_train, y_train_5):\n",
    "    clone_clf = clone(sgd_clf)\n",
    "    X_train_folds = X_train[train_index]\n",
    "    y_train_folds = y_train_5[train_index]\n",
    "    X_test_fold = X_train[test_index]\n",
    "    y_test_fold = y_train_5[test_index]\n",
    "    \n",
    "    clone_clf.fit(X_train_folds, y_train_folds)\n",
    "    y_pred = clone_clf.predict(X_test_fold)\n",
    "    n_correct = sum(y_pred==y_test_fold)\n",
    "    print(n_correct/len(y_pred))"
   ]
  },
  {
   "cell_type": "markdown",
   "id": "69e40472-fc46-4a64-a829-a9c5b5d08499",
   "metadata": {},
   "source": [
    "<hr>\n",
    "\n",
    "### Confusion Matrices"
   ]
  },
  {
   "cell_type": "code",
   "execution_count": 60,
   "id": "9ed16234-8ef1-4a42-86e2-d999804ced59",
   "metadata": {},
   "outputs": [],
   "source": [
    "from sklearn.model_selection import cross_val_predict"
   ]
  },
  {
   "cell_type": "code",
   "execution_count": 62,
   "id": "dfccb79f-97e0-4c5a-aec7-33c4e823f305",
   "metadata": {},
   "outputs": [],
   "source": [
    "y_train_pred = cross_val_predict(sgd_clf, X_train, y_train_5, cv=3)"
   ]
  },
  {
   "cell_type": "code",
   "execution_count": 63,
   "id": "20cf4fa0-6eee-49d9-8e40-cc13bc9f9fac",
   "metadata": {},
   "outputs": [
    {
     "data": {
      "text/plain": [
       "array([ True, False, False, ...,  True, False, False])"
      ]
     },
     "execution_count": 63,
     "metadata": {},
     "output_type": "execute_result"
    }
   ],
   "source": [
    "y_train_pred"
   ]
  },
  {
   "cell_type": "code",
   "execution_count": 66,
   "id": "10dfc588-c8e5-4926-aaa2-fcdbdb228f40",
   "metadata": {},
   "outputs": [],
   "source": [
    "from sklearn.metrics import confusion_matrix"
   ]
  },
  {
   "cell_type": "code",
   "execution_count": 68,
   "id": "9c7a2c77-5253-4436-8b36-42a3d5ac856d",
   "metadata": {},
   "outputs": [
    {
     "data": {
      "text/plain": [
       "array([[53892,   687],\n",
       "       [ 1891,  3530]])"
      ]
     },
     "execution_count": 68,
     "metadata": {},
     "output_type": "execute_result"
    }
   ],
   "source": [
    "cm = confusion_matrix(y_train_5, y_train_pred)\n",
    "cm"
   ]
  },
  {
   "cell_type": "markdown",
   "id": "3003c1de-8cb2-44dc-b54f-b990b15afc10",
   "metadata": {},
   "source": [
    "<hr>\n",
    "\n",
    "$$\n",
    "\\begin{bmatrix}\n",
    "TN & FP\n",
    "\\\\\n",
    "FN & TP\n",
    "\\end{bmatrix}\n",
    "$$\n",
    "\n",
    "\n",
    "A perfect CM will have only diagonal non-zero values and all values off the diagonal will be zero.\n",
    "\n",
    "<hr>"
   ]
  },
  {
   "cell_type": "code",
   "execution_count": 77,
   "id": "665e121d-2ce7-4c02-aaaa-cbc9d71981f6",
   "metadata": {},
   "outputs": [
    {
     "data": {
      "text/plain": [
       "array([[54579,     0],\n",
       "       [    0,  5421]])"
      ]
     },
     "execution_count": 77,
     "metadata": {},
     "output_type": "execute_result"
    }
   ],
   "source": [
    "y_train_perfect_predictions = y_train_5\n",
    "confusion_matrix(y_train_5, y_train_perfect_predictions)"
   ]
  },
  {
   "cell_type": "markdown",
   "id": "5ea9bc3a-0d47-4f07-adf8-27bf72c5a96c",
   "metadata": {},
   "source": [
    "<hr>\n",
    "\n",
    "- Precision: Accuracy of positive predictions\n",
    "    - precision = $\\frac{TP}{TP+FP}$\n",
    "    \n",
    "<br>\n",
    "\n",
    "- Recall: Also called sensitivity or the true positive rate\n",
    "    - recall = $\\frac{TP}{TP+FN}$"
   ]
  },
  {
   "cell_type": "code",
   "execution_count": 95,
   "id": "35acd485-fbef-4381-8d2d-f19bf3c9ac65",
   "metadata": {},
   "outputs": [],
   "source": [
    "from sklearn.metrics import precision_score, recall_score"
   ]
  },
  {
   "cell_type": "code",
   "execution_count": 97,
   "id": "f1051887-1715-4aa1-a438-1f008c983496",
   "metadata": {},
   "outputs": [
    {
     "data": {
      "text/plain": [
       "0.8370879772350012"
      ]
     },
     "execution_count": 97,
     "metadata": {},
     "output_type": "execute_result"
    }
   ],
   "source": [
    "precision_score(y_train_5, y_train_pred)"
   ]
  },
  {
   "cell_type": "code",
   "execution_count": 99,
   "id": "13ba01fb-3f1d-4edc-9232-eae735858a3c",
   "metadata": {},
   "outputs": [
    {
     "data": {
      "text/plain": [
       "0.6511713705958311"
      ]
     },
     "execution_count": 99,
     "metadata": {},
     "output_type": "execute_result"
    }
   ],
   "source": [
    "recall_score(y_train_5, y_train_pred)"
   ]
  },
  {
   "cell_type": "markdown",
   "id": "14cd9db5-00b2-41e6-a05c-38964d2fd89a",
   "metadata": {},
   "source": [
    "To combine precision and recall into a single metric makes sense.\n",
    "\n",
    "$F_1$ score is the harmonic mean of precision and recall. (Because harmonic mean gives much more weight to lower values). $F_1$ will be high if both P and R are high."
   ]
  },
  {
   "cell_type": "markdown",
   "id": "874286ae-5d1d-4f2c-bedd-61e0799b8ef9",
   "metadata": {},
   "source": [
    "$F_1 = \\frac{2}{\\frac{1}{P}+\\frac{1}{R}} = 2 \\times \\frac{P \\times R}{P+R} = \\frac{TP}{TP+\\frac{FN+FP}{2}}$"
   ]
  },
  {
   "cell_type": "code",
   "execution_count": 105,
   "id": "244e0e1a-f6cc-415e-adcd-fb3b1636aff0",
   "metadata": {},
   "outputs": [],
   "source": [
    "from sklearn.metrics import f1_score"
   ]
  },
  {
   "cell_type": "code",
   "execution_count": 107,
   "id": "c2ea880e-e575-4a94-b8b7-06b42fbb01e9",
   "metadata": {},
   "outputs": [
    {
     "data": {
      "text/plain": [
       "0.7325171197343846"
      ]
     },
     "execution_count": 107,
     "metadata": {},
     "output_type": "execute_result"
    }
   ],
   "source": [
    "f1_score(y_train_5, y_train_pred)"
   ]
  },
  {
   "cell_type": "code",
   "execution_count": 109,
   "id": "e1d1c896-91ca-46f3-b5c8-c321e633f7ce",
   "metadata": {},
   "outputs": [
    {
     "data": {
      "text/plain": [
       "array([2164.22030239])"
      ]
     },
     "execution_count": 109,
     "metadata": {},
     "output_type": "execute_result"
    }
   ],
   "source": [
    "y_scores = sgd_clf.decision_function([some_digit])\n",
    "y_scores"
   ]
  },
  {
   "cell_type": "code",
   "execution_count": 120,
   "id": "00fb8212-876d-4a7e-8ba8-33512f5ab6d7",
   "metadata": {},
   "outputs": [
    {
     "data": {
      "text/plain": [
       "array([ True])"
      ]
     },
     "execution_count": 120,
     "metadata": {},
     "output_type": "execute_result"
    }
   ],
   "source": [
    "threshold = 2164\n",
    "y_some_digit_pred = (y_scores > threshold)\n",
    "y_some_digit_pred"
   ]
  },
  {
   "cell_type": "code",
   "execution_count": 122,
   "id": "93c0635c-4859-4f26-b22e-f23f236f61bc",
   "metadata": {},
   "outputs": [],
   "source": [
    "#How do we know what threshold to use?"
   ]
  },
  {
   "cell_type": "code",
   "execution_count": 124,
   "id": "68c8074c-7979-48f4-86cc-15d78e3d808b",
   "metadata": {},
   "outputs": [],
   "source": [
    "y_scores = cross_val_predict(sgd_clf, X_train, y_train_5, cv=3, method=\"decision_function\")"
   ]
  },
  {
   "cell_type": "code",
   "execution_count": 126,
   "id": "709c4cf9-aaa5-4839-b677-72e2fb249fbf",
   "metadata": {},
   "outputs": [],
   "source": [
    "from sklearn.metrics import precision_recall_curve"
   ]
  },
  {
   "cell_type": "code",
   "execution_count": 128,
   "id": "f088faaf-ef12-49fa-a183-95345120e836",
   "metadata": {},
   "outputs": [],
   "source": [
    "precisions, recalls, thresholds = precision_recall_curve(y_train_5, y_scores)"
   ]
  },
  {
   "cell_type": "code",
   "execution_count": 142,
   "id": "e57e06eb-6e9c-42cc-930b-f5a67d49f514",
   "metadata": {},
   "outputs": [
    {
     "data": {
      "image/png": "[encoded data removed]",
      "text/plain": [
       "<Figure size 640x480 with 1 Axes>"
      ]
     },
     "metadata": {},
     "output_type": "display_data"
    }
   ],
   "source": [
    "plt.plot(thresholds, precisions[:-1], \"b--\", label=\"Precision\", linewidth=2)\n",
    "plt.plot(thresholds, recalls[:-1],\"g-\", label=\"Recall\", linewidth=2)\n",
    "plt.vlines(threshold, 0, 1.0, \"k\",\"dotted\", label=\"Threshold\")\n",
    "plt.title(\"Precision-Recall vs Threshold\", fontsize=14)\n",
    "plt.xlabel(\"Threshold\", fontsize=12)\n",
    "plt.ylabel(\"Value\", fontsize=12)\n",
    "plt.grid(True, linestyle='--', alpha=0.7)\n",
    "plt.legend(loc=\"lower left\", fontsize=10)\n",
    "plt.tight_layout()\n",
    "plt.show()"
   ]
  },
  {
   "cell_type": "code",
   "execution_count": 146,
   "id": "da09b739-6dbe-401e-89a8-84780eab7e7a",
   "metadata": {},
   "outputs": [
    {
     "data": {
      "image/png": "[encoded data removed]",
      "text/plain": [
       "<Figure size 640x480 with 1 Axes>"
      ]
     },
     "metadata": {},
     "output_type": "display_data"
    }
   ],
   "source": [
    "plt.plot(recalls, precisions, linewidth=2, label=\"Precision/Recall curve\")\n",
    "plt.xlabel(\"Recall\", fontsize=12)\n",
    "plt.ylabel(\"Precision\", fontsize=12)\n",
    "plt.grid(True, linestyle='--', alpha=0.7)\n",
    "plt.legend(loc=\"lower left\", fontsize=10)\n",
    "plt.tight_layout()\n",
    "plt.show()"
   ]
  },
  {
   "cell_type": "code",
   "execution_count": 148,
   "id": "c5c7d3a7-2600-49ea-8d34-404bf14c02ce",
   "metadata": {},
   "outputs": [],
   "source": [
    "idx_for_90_precision = (precisions>=0.90).argmax()"
   ]
  },
  {
   "cell_type": "code",
   "execution_count": 150,
   "id": "c35df61b-c452-45bd-b265-c05e0978bde9",
   "metadata": {},
   "outputs": [],
   "source": [
    "threshold_for_90_precision = thresholds[idx_for_90_precision]"
   ]
  },
  {
   "cell_type": "code",
   "execution_count": 152,
   "id": "77a15d7e-4999-472b-9cb3-36815deaf4eb",
   "metadata": {},
   "outputs": [
    {
     "data": {
      "text/plain": [
       "3370.0194991439557"
      ]
     },
     "execution_count": 152,
     "metadata": {},
     "output_type": "execute_result"
    }
   ],
   "source": [
    "threshold_for_90_precision"
   ]
  },
  {
   "cell_type": "code",
   "execution_count": 154,
   "id": "4981c95e-a744-4a25-a6ac-8262aa1d40cc",
   "metadata": {},
   "outputs": [],
   "source": [
    "y_train_pred_90 = (y_scores>=threshold_for_90_precision)"
   ]
  },
  {
   "cell_type": "code",
   "execution_count": 156,
   "id": "26cbac2b-8176-4218-b2de-ba5e52cdea73",
   "metadata": {},
   "outputs": [
    {
     "data": {
      "text/plain": [
       "0.9000345901072293"
      ]
     },
     "execution_count": 156,
     "metadata": {},
     "output_type": "execute_result"
    }
   ],
   "source": [
    "precision_score(y_train_5, y_train_pred_90)"
   ]
  },
  {
   "cell_type": "code",
   "execution_count": 158,
   "id": "e9217d3f-3598-4722-a00d-ddc9d1296d78",
   "metadata": {},
   "outputs": [],
   "source": [
    "recall_at_90_precision = recall_score(y_train_5, y_train_pred_90)"
   ]
  },
  {
   "cell_type": "code",
   "execution_count": 161,
   "id": "bda4867d-8d4e-4682-b7ea-c11dfe8e5220",
   "metadata": {},
   "outputs": [
    {
     "data": {
      "text/plain": [
       "0.4799852425751706"
      ]
     },
     "execution_count": 161,
     "metadata": {},
     "output_type": "execute_result"
    }
   ],
   "source": [
    "recall_at_90_precision"
   ]
  },
  {
   "cell_type": "markdown",
   "id": "189bbc15-21d4-48a2-b58d-cf26646f7ec0",
   "metadata": {},
   "source": [
    "### The ROC Curve\n",
    "Receiver Operating Characteristic\n",
    "\n",
    "$\\frac{TPR}{FPR} = \\frac{TPR}{1-TNR}$\n",
    "\n",
    "sensitivity/(1-specificity)"
   ]
  },
  {
   "cell_type": "code",
   "execution_count": 170,
   "id": "1aadbd43-acb7-48aa-b6d2-2ebf15e7a597",
   "metadata": {},
   "outputs": [],
   "source": [
    "from sklearn.metrics import roc_curve"
   ]
  },
  {
   "cell_type": "code",
   "execution_count": 172,
   "id": "7edaad7d-ee62-4caf-bca1-8c47d5cc98d7",
   "metadata": {},
   "outputs": [],
   "source": [
    "fpr, tpr, thresholds = roc_curve(y_train_5, y_scores)"
   ]
  },
  {
   "cell_type": "code",
   "execution_count": 174,
   "id": "974bd1ea-c96d-4bdf-b727-c130bf945176",
   "metadata": {},
   "outputs": [],
   "source": [
    "idx_for_threshold_at_90 = (thresholds <= threshold_for_90_precision).argmax()\n",
    "tpr_90, fpr_90 = tpr[idx_for_threshold_at_90], fpr[idx_for_threshold_at_90]"
   ]
  },
  {
   "cell_type": "code",
   "execution_count": 176,
   "id": "fdf6f893-f0bd-4501-a24d-86944576a95c",
   "metadata": {},
   "outputs": [
    {
     "data": {
      "image/png": "[encoded data removed]",
      "text/plain": [
       "<Figure size 640x480 with 1 Axes>"
      ]
     },
     "metadata": {},
     "output_type": "display_data"
    }
   ],
   "source": [
    "plt.plot(fpr,tpr,linewidth=2,label=\"ROC Curve\")\n",
    "plt.plot([0,1],[0,1], 'k:', label=\"Random classifier's ROC Curve\")\n",
    "plt.plot([fpr_90],[tpr_90],\"ko\", label=\"Threshold for 90% precision\")\n",
    "plt.xlabel(\"FPR (Fall-Out)\", fontsize=12)\n",
    "plt.ylabel(\"TPR (Recall)\", fontsize=12)\n",
    "plt.grid(True, linestyle='--', alpha=0.7)\n",
    "plt.legend(loc=\"lower left\", fontsize=10)\n",
    "plt.tight_layout()\n",
    "plt.show()"
   ]
  },
  {
   "cell_type": "code",
   "execution_count": 178,
   "id": "752b7d13-006d-43a8-a7fe-57d6a82e2ba5",
   "metadata": {},
   "outputs": [],
   "source": [
    "from sklearn.metrics import roc_auc_score"
   ]
  },
  {
   "cell_type": "code",
   "execution_count": 180,
   "id": "6c669aab-7dd3-476f-829e-f28e15cb56a7",
   "metadata": {},
   "outputs": [
    {
     "data": {
      "text/plain": [
       "0.9604938554008616"
      ]
     },
     "execution_count": 180,
     "metadata": {},
     "output_type": "execute_result"
    }
   ],
   "source": [
    "roc_auc_score(y_train_5, y_scores)"
   ]
  },
  {
   "cell_type": "code",
   "execution_count": 182,
   "id": "4f4ca63d-0241-42ac-bd4b-5c0901009553",
   "metadata": {},
   "outputs": [],
   "source": [
    "from sklearn.ensemble import RandomForestClassifier"
   ]
  },
  {
   "cell_type": "code",
   "execution_count": 184,
   "id": "631ea816-dfb5-4f28-8ba2-ca6412c772cc",
   "metadata": {},
   "outputs": [],
   "source": [
    "forest_clf = RandomForestClassifier(random_state=42)"
   ]
  },
  {
   "cell_type": "code",
   "execution_count": null,
   "id": "2e427cdd-5dc0-48f2-9db5-a3e64094e8d3",
   "metadata": {},
   "outputs": [],
   "source": []
  }
 ],
 "metadata": {
  "kernelspec": {
   "display_name": "Python 3 (ipykernel)",
   "language": "python",
   "name": "python3"
  },
  "language_info": {
   "codemirror_mode": {
    "name": "ipython",
    "version": 3
   },
   "file_extension": ".py",
   "mimetype": "text/x-python",
   "name": "python",
   "nbconvert_exporter": "python",
   "pygments_lexer": "ipython3",
   "version": "3.9.18"
  }
 },
 "nbformat": 4,
 "nbformat_minor": 5
}
